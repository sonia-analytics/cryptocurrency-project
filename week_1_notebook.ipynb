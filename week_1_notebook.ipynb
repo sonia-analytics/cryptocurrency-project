{
 "cells": [
  {
   "cell_type": "code",
   "execution_count": 6,
   "id": "91c14a0e-1594-4f7e-8b28-c6852f46d88f",
   "metadata": {},
   "outputs": [
    {
     "name": "stdout",
     "output_type": "stream",
     "text": [
      "Week 1 complete: 900 rows saved\n"
     ]
    }
   ],
   "source": [
    "import requests, pandas as pd, os, json, sqlite3\n",
    "from datetime import datetime, timezone\n",
    "from time import sleep\n",
    "\n",
    "ts = datetime.now(timezone.utc).strftime(\"%Y%m%dT%H%M%SZ\")\n",
    "RAW_DIR, CLEAN_DIR = \"data/raw\",\"data/clean\"\n",
    "MASTER_DB = os.path.join(CLEAN_DIR,\"crypto_master.db\")\n",
    "for d in [RAW_DIR,CLEAN_DIR]: os.makedirs(d,exist_ok=True)\n",
    "\n",
    "def fetch_crypto(pages=5,retries=3):\n",
    "    data=[]\n",
    "    for p in range(1,pages+1):\n",
    "        for i in range(retries):\n",
    "            try:\n",
    "                r=requests.get(\n",
    "                    \"https://api.coingecko.com/api/v3/coins/markets\",\n",
    "                    params={\"vs_currency\":\"usd\",\"order\":\"market_cap_desc\",\n",
    "                            \"per_page\":250,\"page\":p,\"sparkline\":\"false\"},timeout=15)\n",
    "                r.raise_for_status()\n",
    "                page_data=r.json()\n",
    "                for item in page_data: item[\"fetched_at\"]=ts\n",
    "                data.extend(page_data)\n",
    "                break\n",
    "            except: sleep(2**i)\n",
    "    df = pd.DataFrame(data).drop_duplicates(subset=\"id\").head(900)\n",
    "    return df\n",
    "\n",
    "cleaned = fetch_crypto()\n",
    "cleaned.to_csv(f\"{RAW_DIR}/crypto_raw_{ts}.csv\",index=False)\n",
    "with open(f\"{RAW_DIR}/crypto_raw_{ts}.json\",\"w\",encoding=\"utf-8\") as f:\n",
    "    json.dump(cleaned.to_dict(orient=\"records\"),f,indent=2)\n",
    "\n",
    "fields=[\"id\",\"symbol\",\"name\",\"current_price\",\"market_cap\",\"total_volume\",\n",
    "        \"high_24h\",\"low_24h\",\"price_change_percentage_24h\",\"fetched_at\"]\n",
    "cleaned[fields].to_csv(f\"{CLEAN_DIR}/crypto_clean_{ts}.csv\",index=False)\n",
    "\n",
    "conn=sqlite3.connect(MASTER_DB)\n",
    "conn.execute(\"DROP TABLE IF EXISTS crypto\")\n",
    "cleaned[fields].to_sql(\"crypto\",conn,if_exists=\"replace\",index=False)\n",
    "conn.close()\n",
    "print(f\"Week 1 complete: {len(cleaned)} rows saved\")"
   ]
  },
  {
   "cell_type": "code",
   "execution_count": 12,
   "id": "820ef394-052f-4a0d-b261-9db8da25abd0",
   "metadata": {},
   "outputs": [
    {
     "name": "stdout",
     "output_type": "stream",
     "text": [
      " Raw JSON saved with 900 items → data/raw\\crypto_raw_20250914T020336Z.json\n"
     ]
    }
   ],
   "source": [
    "import pandas as pd, os\n",
    "\n",
    "RAW_DIR = \"data/raw\"\n",
    "raw_csv = os.path.join(RAW_DIR, \"crpto_raw.csv\")  \n",
    "ts = \"20250914T020336Z\" \n",
    "df = pd.read_csv(raw_csv)\n",
    "\n",
    "df900 = df.head(900)\n",
    "\n",
    "raw_json_file = os.path.join(RAW_DIR, f\"crypto_raw_{ts}.json\")\n",
    "df900.to_json(raw_json_file, orient=\"records\", indent=2)\n",
    "\n",
    "print(f\" Raw JSON saved with {len(df900)} items → {raw_json_file}\")"
   ]
  },
  {
   "cell_type": "code",
   "execution_count": null,
   "id": "66ae21d5-a5dc-4f9a-aab7-eeb7ea8ebac1",
   "metadata": {},
   "outputs": [],
   "source": []
  }
 ],
 "metadata": {
  "kernelspec": {
   "display_name": "Python [conda env:base] *",
   "language": "python",
   "name": "conda-base-py"
  },
  "language_info": {
   "codemirror_mode": {
    "name": "ipython",
    "version": 3
   },
   "file_extension": ".py",
   "mimetype": "text/x-python",
   "name": "python",
   "nbconvert_exporter": "python",
   "pygments_lexer": "ipython3",
   "version": "3.13.5"
  }
 },
 "nbformat": 4,
 "nbformat_minor": 5
}
