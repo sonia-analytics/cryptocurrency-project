{
 "cells": [
  {
   "cell_type": "markdown",
   "id": "454d4efd",
   "metadata": {},
   "source": [
    "# Cryptocurrency Data Pipeline — Final Presentation\n",
    "**Author:** Sonia Mannepuli\n",
    "\n",
    "This notebook summarizes the 6-week ETL project: extraction, cleaning, storage, quality checks, visualization, and final presentation.\n"
   ]
  },
  {
   "cell_type": "markdown",
   "id": "deed6392",
   "metadata": {},
   "source": [
    "## Week-by-week Summary\n",
    "\n",
    "- **Week 1 — Extraction:** CoinGecko API extraction, retry logic, raw JSON/CSV snapshots.\n",
    "- **Week 2 — Cleaning:** Normalize cols, handle missing values, deduplicate, feature engineering (price change, moving averages).\n",
    "- **Week 3 — Storage & Automation:** Master CSV + SQLite DB, automation with schedule/APScheduler, logging.\n",
    "- **Week 4 — Data Quality & Monitoring:** Data quality checker and daily/weekly reports (CSV + Markdown).\n",
    "- **Week 5 — EDA & Dashboard:** Jupyter EDA, time-series visuals, Streamlit dashboard deployment.\n",
    "- **Week 6 — Presentation:** Architecture diagram, presentation notebook, final repo polish.\n"
   ]
  },
  {
   "cell_type": "markdown",
   "id": "a0eabea1",
   "metadata": {},
   "source": [
    "## Pipeline Architecture (Week 1 — Extraction view)\n",
    "![Pipeline Diagram](docs/pipeline_architecture.png)"
   ]
  },
  {
   "cell_type": "code",
   "execution_count": 6,
   "id": "d9e4df35",
   "metadata": {},
   "outputs": [
    {
     "name": "stdout",
     "output_type": "stream",
     "text": [
      "Files in working directory:\n",
      "- .\\data/clean contains 7\n",
      "- .\\data/raw contains 3\n",
      "- .\\docs contains 1\n",
      "- .\\logs contains 3\n"
     ]
    }
   ],
   "source": [
    "import os\n",
    "print('Files in working directory:')\n",
    "for d in ['data/clean','data/raw','docs','logs']:\n",
    "    p = os.path.join('.', d)\n",
    "    if os.path.exists(p):\n",
    "        print('-', p, 'contains', len(os.listdir(p)))\n",
    "    else:\n",
    "        print('-', p, 'MISSING')"
   ]
  },
  {
   "cell_type": "code",
   "execution_count": null,
   "id": "f7e461c8",
   "metadata": {},
   "outputs": [],
   "source": [
    "\n",
    "# Example: Top 5 bar chart if a cleaned CSV exists\n",
    "import pandas as pd, matplotlib.pyplot as plt\n",
    "cands = ['data/clean/crypto_clean.csv','crypto_clean.csv','data/clean/crypto_master.csv']\n",
    "csv = next((p for p in cands if os.path.exists(p)), None)\n",
    "if csv:\n",
    "    df = pd.read_csv(csv)\n",
    "    if 'market_cap' in df.columns:\n",
    "        df['market_cap'] = pd.to_numeric(df['market_cap'], errors='coerce')\n",
    "        top5 = df.nlargest(5, 'market_cap').dropna(subset=['market_cap'])\n",
    "    else:\n",
    "        top5 = df.head(5)\n",
    "    names = top5['name'] if 'name' in top5.columns else top5.iloc[:,0]\n",
    "    prices = top5['current_price'] if 'current_price' in top5.columns else top5.iloc[:,1]\n",
    "    fig, ax = plt.subplots(figsize=(6,3))\n",
    "    ax.bar(names.astype(str), pd.to_numeric(prices, errors='coerce'), color='gold')\n",
    "    ax.set_title('Top 5 Cryptos by Price')\n",
    "    ax.set_ylabel('Price (USD)')\n",
    "    plt.xticks(rotation=25)\n",
    "    plt.tight_layout()\n",
    "    plt.show()\n",
    "else:\n",
    "    print('No cleaned CSV found to plot.')\n"
   ]
  },
  {
   "cell_type": "markdown",
   "id": "f55c5fd2",
   "metadata": {},
   "source": [
    "## Key Findings\n",
    "\n",
    "- Bitcoin and Ethereum lead total market cap.\n",
    "- 5-day MA smooths volatility and highlights trend direction.\n",
    "- Altcoins show higher short-term volatility.\n"
   ]
  }
 ],
 "metadata": {
  "kernelspec": {
   "display_name": "Python [conda env:base] *",
   "language": "python",
   "name": "conda-base-py"
  },
  "language_info": {
   "codemirror_mode": {
    "name": "ipython",
    "version": 3
   },
   "file_extension": ".py",
   "mimetype": "text/x-python",
   "name": "python",
   "nbconvert_exporter": "python",
   "pygments_lexer": "ipython3",
   "version": "3.13.5"
  }
 },
 "nbformat": 4,
 "nbformat_minor": 5
}
