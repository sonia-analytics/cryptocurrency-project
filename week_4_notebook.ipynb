{
 "cells": [
  {
   "cell_type": "code",
   "execution_count": 6,
   "id": "7734b607-b0f7-45f0-a0a3-29df51d640f9",
   "metadata": {},
   "outputs": [
    {
     "name": "stdout",
     "output_type": "stream",
     "text": [
      "Data quality report saved: data/clean\\data_quality_report.csv\n"
     ]
    },
    {
     "data": {
      "text/html": [
       "<div>\n",
       "<style scoped>\n",
       "    .dataframe tbody tr th:only-of-type {\n",
       "        vertical-align: middle;\n",
       "    }\n",
       "\n",
       "    .dataframe tbody tr th {\n",
       "        vertical-align: top;\n",
       "    }\n",
       "\n",
       "    .dataframe thead th {\n",
       "        text-align: right;\n",
       "    }\n",
       "</style>\n",
       "<table border=\"1\" class=\"dataframe\">\n",
       "  <thead>\n",
       "    <tr style=\"text-align: right;\">\n",
       "      <th></th>\n",
       "      <th>total_rows</th>\n",
       "      <th>missing_values</th>\n",
       "      <th>duplicate_rows</th>\n",
       "      <th>invalid_prices</th>\n",
       "      <th>invalid_market_cap</th>\n",
       "    </tr>\n",
       "  </thead>\n",
       "  <tbody>\n",
       "    <tr>\n",
       "      <th>0</th>\n",
       "      <td>900</td>\n",
       "      <td>0</td>\n",
       "      <td>0</td>\n",
       "      <td>0</td>\n",
       "      <td>0</td>\n",
       "    </tr>\n",
       "  </tbody>\n",
       "</table>\n",
       "</div>"
      ],
      "text/plain": [
       "   total_rows  missing_values  duplicate_rows  invalid_prices  \\\n",
       "0         900               0               0               0   \n",
       "\n",
       "   invalid_market_cap  \n",
       "0                   0  "
      ]
     },
     "execution_count": 6,
     "metadata": {},
     "output_type": "execute_result"
    }
   ],
   "source": [
    "import pandas as pd, os\n",
    "\n",
    "CLEAN_DIR = \"data/clean\"\n",
    "MASTER_FILE = os.path.join(CLEAN_DIR, \"crypto_clean.csv\")\n",
    "REPORT_FILE = os.path.join(CLEAN_DIR, \"data_quality_report.csv\")\n",
    "\n",
    "df = pd.read_csv(MASTER_FILE)\n",
    "\n",
    "report = {\n",
    "    \"total_rows\": len(df),\n",
    "    \"missing_values\": df.isnull().sum().sum(),\n",
    "    \"duplicate_rows\": df.duplicated().sum(),\n",
    "    \"invalid_prices\": (df[\"current_price\"] <= 0).sum(),\n",
    "    \"invalid_market_cap\": (df[\"current_price\"] < 0).sum(),\n",
    "}\n",
    "\n",
    "pd.DataFrame([report]).to_csv(REPORT_FILE, index=False)\n",
    "print(\"Data quality report saved:\", REPORT_FILE)\n",
    "pd.DataFrame([report])"
   ]
  },
  {
   "cell_type": "code",
   "execution_count": 8,
   "id": "ceea0409-09aa-4986-b8b5-a17438699f9c",
   "metadata": {},
   "outputs": [
    {
     "name": "stdout",
     "output_type": "stream",
     "text": [
      "Markdown quality report saved: data/clean\\data_quality_report_md\n"
     ]
    }
   ],
   "source": [
    "REPORT_MD = os.path.join(CLEAN_DIR, \"data_quality_report_md\")\n",
    "\n",
    "with open(REPORT_MD, \"w\", encoding=\"utf-8\") as f:\n",
    "    f.write(\"# Data Quality Report\\n\\n\")\n",
    "    for k, v in report.items():\n",
    "        f.write(f\"- **{k.replace('_', ' ').title()}**: {v}\\n\")\n",
    "\n",
    "print(\"Markdown quality report saved:\", REPORT_MD)"
   ]
  },
  {
   "cell_type": "code",
   "execution_count": null,
   "id": "961d5bfb-0e84-4dd3-bc12-e4c3626414e4",
   "metadata": {},
   "outputs": [],
   "source": []
  }
 ],
 "metadata": {
  "kernelspec": {
   "display_name": "Python [conda env:base] *",
   "language": "python",
   "name": "conda-base-py"
  },
  "language_info": {
   "codemirror_mode": {
    "name": "ipython",
    "version": 3
   },
   "file_extension": ".py",
   "mimetype": "text/x-python",
   "name": "python",
   "nbconvert_exporter": "python",
   "pygments_lexer": "ipython3",
   "version": "3.13.5"
  }
 },
 "nbformat": 4,
 "nbformat_minor": 5
}
