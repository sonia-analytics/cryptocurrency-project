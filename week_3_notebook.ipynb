{
 "cells": [
  {
   "cell_type": "code",
   "execution_count": null,
   "id": "6d5ed4bc-4b77-441e-8f68-90280d5a6749",
   "metadata": {},
   "outputs": [],
   "source": [
    "import os, sqlite3, logging, pandas as pd\n",
    "from glob import glob\n",
    "from time import sleep\n",
    "import schedule\n",
    "\n",
    "CLEAN_DIR=\"data/clean\"\n",
    "MASTER_CSV=f\"{CLEAN_DIR}/crypto_master.csv\"\n",
    "MASTER_DB=f\"{CLEAN_DIR}/crypto_master.db\"\n",
    "os.makedirs(\"logs\", exist_ok=True); os.makedirs(CLEAN_DIR, exist_ok=True)\n",
    "\n",
    "logging.basicConfig(filename=\"logs/week3.log\",\n",
    "                    level=logging.INFO,\n",
    "                    format=\"%(asctime)s %(levelname)s %(message)s\")\n",
    "\n",
    "def latest_clean():\n",
    "    files = glob(f\"{CLEAN_DIR}/crypto_clean*.csv\")\n",
    "    return max(files, key=os.path.getmtime) if files else None\n",
    "\n",
    "def job():\n",
    "    try:\n",
    "        src = latest_clean()\n",
    "        if not src:\n",
    "            return logging.info(\"No cleaned CSV found.\")\n",
    "        df = pd.read_csv(src)\n",
    "        master = pd.read_csv(MASTER_CSV) if os.path.exists(MASTER_CSV) else pd.DataFrame(columns=df.columns)\n",
    "        before = len(master)\n",
    "        master = pd.concat([master, df]).drop_duplicates(subset=[\"id\",\"fetched_at\"])\n",
    "        master.to_csv(MASTER_CSV, index=False)\n",
    "        with sqlite3.connect(MASTER_DB) as conn:\n",
    "            master.to_sql(\"crypto\", conn, if_exists=\"replace\", index=False)\n",
    "        added = len(master) - before\n",
    "        logging.info(f\"SUCCESS: {added} new rows from {os.path.basename(src)}\")\n",
    "    except Exception:\n",
    "        logging.exception(\"ERROR in pipeline\")\n",
    "\n",
    "schedule.every().day.at(\"00:00\").do(job)\n",
    "\n",
    "if __name__ == \"__main__\":\n",
    "    job()\n",
    "    while True:\n",
    "           schedule.run_pending(); sleep(30)"
   ]
  },
  {
   "cell_type": "code",
   "execution_count": null,
   "id": "4bbe80ac-c325-4586-a308-827defe4a87a",
   "metadata": {},
   "outputs": [],
   "source": [
    "import sqlite3, pandas as pd\n",
    "conn = sqlite3.connect(\"data/clean/crypto_master.db\")\n",
    "\n",
    "# Count rows\n",
    "print(pd.read_sql(\"SELECT COUNT(*) AS total FROM crypto;\", conn))\n",
    "\n",
    "# Top 5 by market cap\n",
    "print(pd.read_sql(\"SELECT id, name, current_price, market_cap FROM crypto ORDER BY CAST(market_cap AS REAL) DESC LIMIT 5;\", conn))\n",
    "\n",
    "# Average daily % change\n",
    "print(pd.read_sql(\"SELECT AVG(CAST(price_change_pct AS REAL)) AS avg_pct FROM crypto;\", conn))\n",
    "\n",
    "conn.close()\n"
   ]
  },
  {
   "cell_type": "code",
   "execution_count": null,
   "id": "103012ae-5a03-4e60-bd23-41503af03099",
   "metadata": {},
   "outputs": [],
   "source": []
  }
 ],
 "metadata": {
  "kernelspec": {
   "display_name": "Python [conda env:base] *",
   "language": "python",
   "name": "conda-base-py"
  },
  "language_info": {
   "codemirror_mode": {
    "name": "ipython",
    "version": 3
   },
   "file_extension": ".py",
   "mimetype": "text/x-python",
   "name": "python",
   "nbconvert_exporter": "python",
   "pygments_lexer": "ipython3",
   "version": "3.13.5"
  }
 },
 "nbformat": 4,
 "nbformat_minor": 5
}
