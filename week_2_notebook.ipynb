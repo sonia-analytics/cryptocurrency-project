{
 "cells": [
  {
   "cell_type": "code",
   "execution_count": 2,
   "id": "5d52318c-1fde-4df1-b561-e52f622f79ab",
   "metadata": {},
   "outputs": [
    {
     "name": "stdout",
     "output_type": "stream",
     "text": [
      "Week 2 complete: 900 rows cleaned & transformed\n"
     ]
    }
   ],
   "source": [
    "import pandas as pd\n",
    "import numpy as np\n",
    "import os\n",
    "\n",
    "RAW_DIR, CLEAN_DIR = \"data/raw\",\"data/clean\"\n",
    "ts = \"20250914T020336Z\" \n",
    "raw_file = f\"{RAW_DIR}/crypto_raw_{ts}.csv\"\n",
    "\n",
    "# Load the raw data\n",
    "df = pd.read_csv(\"data/raw/crpto_raw.csv\")\n",
    "\n",
    "# Normalize column names\n",
    "df.columns = [c.lower().strip().replace(\" \", \"_\") for c in df.columns]\n",
    "\n",
    "# Handle missing and duplicates\n",
    "df.drop_duplicates(subset=\"id\", inplace=True)\n",
    "df.fillna(0, inplace=True) \n",
    "\n",
    "# Feature engineering\n",
    "df[\"price_change_pct\"] = df[\"price_change_percentage_24h\"].fillna(0)\n",
    "\n",
    "# Saved the clean dataset\n",
    "fields = [\"id\",\"symbol\",\"name\",\"current_price\",\"market_cap\",\"total_volume\",\n",
    "          \"high_24h\",\"low_24h\",\"price_change_pct\",\"fetched_at\"]\n",
    "df[fields].to_csv(f\"{CLEAN_DIR}/crypto_clean_transformed_{ts}.csv\", index=False)\n",
    "\n",
    "print(f\"Week 2 complete: {len(df)} rows cleaned & transformed\")"
   ]
  },
  {
   "cell_type": "code",
   "execution_count": 1,
   "id": "3001a304-30ed-45e4-a0ed-5aa4bb33a695",
   "metadata": {},
   "outputs": [
    {
     "name": "stdout",
     "output_type": "stream",
     "text": [
      "All tests passed!\n"
     ]
    }
   ],
   "source": [
    "import pandas as pd\n",
    "\n",
    "ts = \"20250914T021249Z\"\n",
    "clean_file = f\"data/clean/crypto_clean.csv\"\n",
    "\n",
    "def test_no_duplicates():\n",
    "    df = pd.read_csv(clean_file)\n",
    "    assert df['id'].nunique() == len(df)\n",
    "\n",
    "def test_no_missing_price():\n",
    "    df = pd.read_csv(clean_file)\n",
    "    assert df['current_price'].isnull().sum() == 0\n",
    "\n",
    "if __name__ == \"__main__\":\n",
    "    test_no_duplicates()\n",
    "    test_no_missing_price()\n",
    "    print(\"All tests passed!\")"
   ]
  },
  {
   "cell_type": "code",
   "execution_count": null,
   "id": "50118978-9f8d-4b91-99d2-a3a00ff1261b",
   "metadata": {},
   "outputs": [],
   "source": []
  }
 ],
 "metadata": {
  "kernelspec": {
   "display_name": "Python [conda env:base] *",
   "language": "python",
   "name": "conda-base-py"
  },
  "language_info": {
   "codemirror_mode": {
    "name": "ipython",
    "version": 3
   },
   "file_extension": ".py",
   "mimetype": "text/x-python",
   "name": "python",
   "nbconvert_exporter": "python",
   "pygments_lexer": "ipython3",
   "version": "3.13.5"
  }
 },
 "nbformat": 4,
 "nbformat_minor": 5
}
